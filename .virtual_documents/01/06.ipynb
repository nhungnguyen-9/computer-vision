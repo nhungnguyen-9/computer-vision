from PIL import Image
from imgtools import *


my_path = 'D:/Uni/Python/img/1/1.jpg'


img = load_image(my_path)


display(img)


#convret img from rgb to grayscale img
gray_img = img.convert("L")
display(gray_img)


# split RGB t0 3 different 
red_band, green_band, blue_band = img.split()
display(red_band)
display(green_band)
display(blue_band)


# merge
merged_img = Image.merge("RGB", (red_band, green_band, blue_band))
display(merged_img)



