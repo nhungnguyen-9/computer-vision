# !pip install scipy
from scipy import linalg
import numpy as np

# definition of system of linear equations
A = np.array([[3,1],[5,2]])
b = np.array([5,7])

# solve
x = linalg.solve(A,b)
print("Result: ", x)


# Calculate the integral of a function


from scipy import integrate

# definition of func f(x) = x^2
def my_func(x):
    return x**2

# Calculate the 'integral of f(x) from 0 to 1: ', integral)
integral = integrate.quad(my_func, 0,1)
print('integral of f(x) from 0 to 1: ', integral)


from scipy import linalg
import numpy as np

a = np.array([[3,2],[5,4]])

evals, evecs = linalg.eig(a)

print('unique value: ', evals)
print('vector value: ', evecs)



