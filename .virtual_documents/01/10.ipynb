from PIL import Image
import matplotlib.pyplot as plt


path = 'D:/Uni/Python/img/1/3.jpg'


img = Image.open(path)

# chuyen doi backend
plt.switch_backend("tkagg")

plt.imshow(img)
plt.title("Click all the image to select points")

# su dung ham ginput() de chon 1 diem tren anh
points = plt.ginput(4)

print(points)

# hien thi
plt.show()


# ve lai cac diem da chon bang dau *
plt.close()

# ve lai
plt.imshow(img)
for point in points:
    x,y=point
    plt.plot(x,y,'r*')
plt.show()



