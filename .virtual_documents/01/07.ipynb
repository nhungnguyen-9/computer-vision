#!pip install matplotlib


import matplotlib as mpl
import matplotlib.pyplot as plt
from PIL import Image


my_path = 'D:/Uni/Python/img/1/1.jpg'


img  = Image.open(my_path)
plt.imshow(img)


# ve do thi co ban
x = [1,2,3,4,5]
y=[10,16,20,30,25]
plt.plot(x,y, color="red")
plt.show()


# ve do thi co ban
x = [1,2,3,4,5]
y=[10,16,20,30,25]
plt.plot(x,y, color="red")
plt.title("Example of chart")
plt.show()


# draw on an img
#read
x = [100, 250, 400, 150, 350, 100]
y = [400, 150, 400, 200, 200, 400]

plt.imshow(img)

#draw
plt.plot(x,y,'bo--')
plt.show()



