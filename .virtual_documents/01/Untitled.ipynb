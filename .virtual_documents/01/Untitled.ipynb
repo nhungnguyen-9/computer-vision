import cv2


# read video from file
vid = cv2.VideoCapture('../video/Giai Điệu Việt Nam Mình.mp4')


# create windowto show
cv2.namedWindow('Video Player', cv2.WINDOW_NORMAL)


# show each frame
while True:
    # read 1 frame
    ret, frame = vid.read()

    #exit when cannot read the frame
    if not ret:
        break

    # show
    cv2.imshow('Video Player', frame)

    if(cv2.waitKey(10)==ord('q')):
        break


# cancel player
vid.release
cv2.destroyAllWindows()



