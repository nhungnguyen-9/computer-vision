import numpy as np
from PIL import Image

def average_images(image_list):
    total_array = np.array(Image.open(image_list[0]), 'f')
    count = 1

    for image_path in image_list[0:]:
        try:
            image_array = np.array(Image.open(image_path), 'f')
            total_array += image_array
            count += 1
        except:
            print('Skip ', image_path)

    # tinh trung binh
    average_array = total_array / count

    # chuyen doi ket qua trung binh thanh hinh anh
    average_image = Image.fromarray(np.clip(average_array, 0, 255).astype('uint8'))

    return average_image

path_1 = 'D:/Uni/Python/img/1/3.jpg'
path_2 = 'D:/Uni/Python/img/1/2.jpg'
path_3 = 'D:/Uni/Python/img/1/1.jpg'
image_list = [path_1, path_2, path_3]
result_image = average_images(image_list)
display(result_image)




