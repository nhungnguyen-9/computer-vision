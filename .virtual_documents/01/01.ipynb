from PIL import Image


dir = 'D:/Uni/Python/img/1'


# đường dẫn đến hình ảnh
image_path = dir + '/1.JPG'
print(image_path)


# sử dụng Image.open() để đọc ảnh
img01 = Image.open(image_path)


# hiển thị hình ảnh
img01.show()
display(img01)


# in một số thông tin
# in định dạng ảnh
print('Image type: ' + img01.format)


# in size image
print('Image size: ', img01.size)


# lưu ảnh và chuyển đổi ảnh
img01_new_path = dir + '/new_01.JPG'
img01_new_path_PNG = dir + '/new_01.PNG'
img01.save(img01_new_path)
img01.save(img01_new_path_PNG)


# đóng tập tin (bắt buộc làm)
#img01.close()
