from PIL import Image
from imgtools import *
from IPython.display import display


dir = 'D:/Uni/Python/img/1'
print(dir)


imgs = get_image_list(dir)


# show all images
for img in imgs:
    print(img.size)
    display(img)



