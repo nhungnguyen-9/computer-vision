import numpy as np

# tao mang
a = np.array([1,2,3])

#in mang
print(a)

#in 1 phan tu
element = a[1]
print(element)


# mang 2 chieu
matrix = np.array([[1, 2, 3], [4, 5, 6], [7, 8, 9]])
print("Matrix:")
print(matrix)

# In 1 phan tu
element = matrix[1, 2]
print(element)


# Tạo mảng toàn là số 0
a = np.zeros(5)
print(a)

# Tạo mảng toàn là số 1
a = np.ones(5)
print(a)

# Tạo mảng
a = np.empty(5)
print(a)

# Tạo mảng từ 0 đến 100
a = np.arange(100)
print(a)

# Tạo mảng gồm các phần tử với khoảng cách đều nhau
a = np.linspace(0, 10, num=5)
print(a)


# Xác định kiểu dữ liệu
a = np.ones(5, dtype=np.int64)
a


# Thêm, xóa, sắp xếp mảng

# Tạo mảng ban đầu
arr = np.array([3, 1, 2, 4, 5])
print(arr)

# Sắp xếp
arr = np.sort(arr)
print(arr)

# Sắp xếp ngược
arr = np.sort(arr)[::-1]
print(arr)

# Thêm phần tử vào mảng
arr = np.append(arr, 100)
print(arr)

# Xóa đi một ví trí nào đó trong mảng
arr = np.delete(arr, 3)
print(arr)


# Tạo một mảng 2 chiều
arr = np.array([[3, 1, 2],
                [4, 6, 8],
                [9, 7, 5]])

sap_xep_theo_hang = np.sort(arr, axis=1) # tăng dần
print(sap_xep_theo_hang)

sap_xep_theo_cot = np.sort(arr, axis=0) # tăng dần
print(sap_xep_theo_cot)


# Tạo một mảng 2 chiều
arr = np.array([[3, 1, 2],
                [4, 6, 8],
                [9, 7, 5]])

sap_xep_theo_hang = -np.sort(-arr, axis=1) # giảm dần
print(sap_xep_theo_hang)

sap_xep_theo_cot = -np.sort(-arr, axis=0) # giảm dần
print(sap_xep_theo_cot)



