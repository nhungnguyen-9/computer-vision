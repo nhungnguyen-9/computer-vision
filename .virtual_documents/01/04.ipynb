from PIL import Image
from  imgtools import *


my_path = 'D:/Uni/Python/img/1/1.jpg'


img = load_image(my_path)


display(img)


# identify crop area
region = (100, 100, 250, 250)
#cut region
cropped_image = img.crop(region)
display(cropped_image)


#paste
#identify position to paste
paste_pos = (350, 350)
img.paste(cropped_image, paste_pos)
display(img)



