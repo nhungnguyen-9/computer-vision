from PIL import Image
import numpy as np
import matplotlib.pyplot as plt
from scipy import ndimage


# read
path = 'D:/Uni/Python/img/1/2.jpg'
image = Image.open(path)

# gray img
gray_img = image.convert('L')

#convert to array
image_a = np.array(gray_img)

#Gaussion
blurred_img_a = ndimage.gaussian_filter(image_a, sigma=1, mode="constant")
blurred_img_b = ndimage.gaussian_filter(image_a, sigma=3, mode="constant")
blurred_img_c = ndimage.gaussian_filter(image_a, sigma=5, mode="constant")

# show img
fig, axs = plt.subplots(2,2, figsize=(10,8))

plt.subplot(2,2,1)
plt.imshow(gray_img, cmap='gray')
plt.title('anh xam goc')

plt.subplot(2,2,2)
plt.imshow(blurred_img_a, cmap='gray')
plt.title('sigma=1')

plt.subplot(2,2,3)
plt.imshow(blurred_img_b, cmap='gray')
plt.title('sigma=3')

plt.subplot(2,2,4)
plt.imshow(blurred_img_c, cmap='gray')
plt.title('sigma=5')






