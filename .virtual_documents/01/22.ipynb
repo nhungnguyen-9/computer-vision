import cv2
import time


# read video from file
vid = cv2.VideoCapture('../video/Giai Điệu Việt Nam Mình.mp4')


# create windowto show
cv2.namedWindow('Video Player', cv2.WINDOW_NORMAL)


# write text
font = cv2.FONT_HERSHEY_SIMPLEX
font_color = (0, 255, 255)
font_scale = 2
font_thicknes = 3


# show each frame
while True:
    # time before read
    start_time = time.time()
    # read 1 frame
    ret, frame = vid.read()
    # exit when can not read the frame
    if not ret:
        break
    # time before read
    end_time = time.time()
    # calculate Fps
    fps = 1/(end_time - start_time)
    # write fps
    cv2.putText(frame, f'FPS: {fps:.2f}', (100, 100), font, font_scale, font_color , font_thicknes)
    #show
    cv2.imshow('Video Player', frame)
    if(cv2.waitKey(10)==ord('q')):
        break


# cancel player
vid.release
cv2.destroyAllWindows()



