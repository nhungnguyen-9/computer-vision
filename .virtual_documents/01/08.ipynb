import matplotlib.pyplot as plt


x = [1,2,3,4,5]
y=[10,16,20,30,25]

x1=[1,2,3,4,5]
y1=[20,15,8,9,20]

plt.plot(x,y,'bo--', label ='Data')
plt.plot(x1,y1, marker='o', color='r', linestyle='-', label='Data 1')
plt.legend() #hien thi chu giai
plt.xlabel('X')
plt.ylabel('Y')


categories = ['A', 'B', 'C', 'D']
values=[10,16,20,30]

plt.bar(categories, values, color='g', alpha=0.6) # bar chart

plt.xlabel('Category')
plt.ylabel('Value')
plt.show()


labels = ['A', 'B', 'C', 'D']
sizes=[10,16,20,30]
my_colors=['red', 'green', 'blue', 'yellow']

plt.pie(sizes, labels=labels, colors=my_colors, autopct='%1.1f%%')

plt.title('Biểu đồ hình tròn')
plt.show()


x = [1, 2, 3, 4, 5]
y = [10, 16, 20, 30, 25]

plt.scatter(x, y, c='g', marker='o', label='Dữ liệu')  # Vẽ biểu đồ phân tán
plt.title('Biểu đồ phân tán ví dụ') 
plt.xlabel('Trục x') 
plt.ylabel('Trục y') 
plt.legend()  # Hiển thị chú giải
plt.show()


data = [15, 18, 22, 30, 35, 45, 50, 55, 65]

plt.boxplot(data)  # Vẽ biểu đồ hộp
plt.title('Biểu đồ hộp ví dụ') 
plt.ylabel('Giá trị') 
plt.show()  # Hiển thị biểu đồ


data = [15, 18, 22, 30, 35, 45]

plt.violinplot(data)  # Vẽ biểu đồ violin
plt.title('Biểu đồ violin ví dụ')  
plt.ylabel('Giá trị') 
plt.show()


from wordcloud import WordCloud
import matplotlib.pyplot as plt

text = "hello world!"

wordcloud = WordCloud(width=800, height=400).generate(text)

plt.imshow(wordcloud, interpolation='bilinear')
plt.axis('off')
plt.title('Biểu đồ đám mây từ văn bản ví dụ')
plt.show()


import numpy as np

categories = ['A', 'B', 'C', 'D', 'E']
values = [15, 20, 3, 7, 6]

N = len(categories)
values += values[:1]

angles = [n / float(N) * 2 * np.pi for n in range(N)]
angles += angles[:1]

plt.polar(angles, values, 'o-', linewidth=2)
plt.fill(angles, values, 'b', alpha=0.1)
plt.title('Biểu đồ radar ví dụ')
plt.show()
