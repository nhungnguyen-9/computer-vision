from PIL import Image
import matplotlib.pyplot as plt
import numpy as np

my_path = 'D:/Uni/Python/img/1/3.jpg'

im = Image.open(my_path)

# Chuyển hình về array
im_array = np.array(im)

# Kiểm tra kích thước của anh
print(im_array.shape)

# Chuyển đổi sang ảnh xãm
im_array_2 = np.array(im.convert('L'), 'f')
print(im_array_2.shape)
print(im_array_2.dtype)



import numpy as np
from PIL import Image
import matplotlib.pyplot as plt

my_path = 'D:/Uni/Python/img/1/3.jpg'
image = Image.open(my_path)

# Chuyển đổi hình ảnh thành mảng numpy
image_array = np.array(image.convert("L"))

# Biến đổi ảnh xám theo yêu cầu
inverted_image = 255 - image_array  # Invert ảnh bằng cách lấy 255 - giá trị pixel
squared_image = image_array ** 2  # Bình phương giá trị pixel
clamped_image = np.clip(image_array, 100, 200)  # Giới hạn giá trị pixel trong khoảng 100-200

# Hiển thị hình ảnh gốc và hình ảnh đã biến đổi với khoảng trắng
fig, axs = plt.subplots(2, 2, figsize=(10, 10))
fig.subplots_adjust(wspace=0.2, hspace=0.2)

axs[0, 0].imshow(image_array, cmap="gray")
axs[0, 0].set_title('Hình ảnh gốc')

axs[0, 1].imshow(inverted_image, cmap="gray")
axs[0, 1].set_title('Hình ảnh đã biến đổi')

axs[1, 0].imshow(squared_image, cmap="gray")
axs[1, 0].set_title('Hình ảnh đã biến đổi')

axs[1, 1].imshow(clamped_image, cmap="gray")
axs[1, 1].set_title('Hình ảnh đã biến đổi')

plt.show()



