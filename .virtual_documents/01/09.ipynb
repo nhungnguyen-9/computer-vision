from PIL import Image
import matplotlib.pyplot as plt
import numpy as np


my_path = "D:/Uni/Python/img/1/2.jpg"

#doc anh
img = Image.open(my_path)
plt.imshow(img)


# chuyen sang anh xam
img_gray = img.convert('L')
plt.imshow(img_gray, cmap='gray')


img_array = np.array(img_gray)
print(img_array)


# tao hinh ve moi
plt.figure()
plt.hist(img_array.flatten(),bins=128)
plt.title('Bieu do Histogram cua anh')
plt.xlabel('Gia tri cua pixel')
plt.ylabel('So luong')
plt.show()


# lam noi bat duong bien
plt.figure()
plt.gray()
# contour dung de lam noi bat duong vien
plt.contour(img_gray, origin="image")
plt.show()


# path
my_path='D:/Uni/Python/img/1/3.jpg'

#doc anh va hien thi vs truc toa do
img = Image.open(my_path).convert("L")

plt.imshow(img)

# tao 1 hinh ve moi
plt.figure()
#dat mau sac
plt.gray()
#ve bieu do duong bien
plt.contour(img, origin="image")

# dam bao ti le chia (x, y) tren bieu do =
plt.axis("equal")

plt.show()



