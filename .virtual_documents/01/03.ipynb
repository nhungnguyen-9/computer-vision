from PIL import Image
from imgtools import *


# image dir
dir = 'D:/Uni/Python/img/1/1.jpg'


# read
img = load_image(dir)


display(img)


print(img.size)


# change the size of image
new_size = (300, 300)
new_image = img.resize(new_size)

#save image in disk
new_image.save('D:/Uni/Python/img/1/6.jpg')

image_resize = display(new_image)


thumbnail_size = (20, 20)
img.thumbnail(thumbnail_size)

img.save('D:/Uni/Python/img/1/thumbnail.jpg')
display(img)



