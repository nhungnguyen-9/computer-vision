# !pip install opencv-python

def display(title, img):
    cv2.imshow(title, img)
    # wait
    cv2.waitKey(0)
    # close window
    cv2.destroyWindow(title)


import cv2


path = 'D:/Uni/Python/img/1/7.jpg'
img = cv2.imread(path)
# in thong tin anh
print(img)


# hien thi anh
cv2.imshow('Window', img)

# wait
cv2.waitKey(10000)

# close window
cv2.destroyWindow('Window')


# tach mau
b,g,r = cv2.split(img)
cv2.imshow('Window', img)
cv2.imshow('Red', r)
cv2.imshow('Green', g)
cv2.imshow('Blue', b)

# wait
cv2.waitKey(0)

# close window
cv2.destroyAllWindows()


gray_img = cv2.cvtColor(img, cv2.COLOR_BGR2GRAY)
img_2 = cv2.cvtColor(img, cv2.COLOR_BGR2RGB)
cv2.imshow('Window', img)
cv2.imshow('gray_img', gray_img)
cv2.imshow('img_2', img_2)
# wait
cv2.waitKey(0)
# close window
cv2.destroyAllWindows()


# thay doi thong so cua diem anh
height, width, z = img.shape
quater_h = height/2
quater_w = width/2

# geen color
green_color = (0,255,0)

# copy anh
img2 = img.copy()

# thay doi mau cua goc 1/4 ben trai tren

for y in range(int(quater_h)):
    for x in range(int(quater_w)):
        img2[y, x] = green_color
        
# show
display('Window', img)
display('Window-2', img2)



