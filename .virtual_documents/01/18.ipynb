import numpy as np
import matplotlib.pyplot as plt
from scipy import ndimage
from PIL import Image

# read
img = Image.open('D:/Uni/Python/img/1/8.jpg')

# gray img
gray_img = img.convert('L')
image_array = np.array(gray_img)

# convert to binary img
binary_img = 1*(image_array < 200)

# label
labeled_img, num_features = ndimage.label(binary_img)

# create grid subplot with 3 cols and 1 row
fig, axs = plt.subplots(3,1, figsize=(50, 50))

plt.subplot(3,1,1)
plt.imshow(gray_img, cmap='gray')
plt.title("anh xam")

plt.subplot(3,1,2)
plt.imshow(binary_img, cmap='gray')
plt.title("anh nhi phan")

plt.subplot(3,1,3)
plt.imshow(labeled_img, cmap='gray')
plt.title(f"Đã đánh nhãn ({num_features} đối tượng)")

plt.show()


import numpy as np
import matplotlib.pyplot as plt
from scipy import ndimage
from PIL import Image

image = Image.open('D:/Uni/Python/img/1/8.jpg')

gray_image = image.convert('L')

image_array = np.array(gray_image)

binary_image = 1*(image_array<200)

opened_image = ndimage.binary_opening(binary_image, structure=np.ones((5,5)))

# label
labeled_image, num_features = ndimage.label(opened_image)

# grid
fig, axs = plt.subplots(4, 1, figsize=(50, 50))

plt.subplot(4,1,1)
plt.imshow(gray_image, cmap='gray')
plt.title("anh xam")

plt.subplot(4,1,2)
plt.imshow(binary_image, cmap='gray')
plt.title("anh nhi phan")
                                      
plt.subplot(4,1,3)
plt.imshow(opened_image, cmap='gray')
plt.title("anh sau opening")


plt.subplot(4,1,4)
plt.imshow(labeled_image, cmap='gray')
plt.title(f"Đã đánh nhãn ({num_features} đối tượng)")

plt.show();



