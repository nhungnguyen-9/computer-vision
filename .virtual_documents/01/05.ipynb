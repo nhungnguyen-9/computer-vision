from PIL import Image
from imgtools import *


my_path = 'D:/Uni/Python/img/1/1.jpg'


img = load_image(my_path)


display(img)


#rotate
rotated_img = img.rotate(180)
display(rotated_img)


# transpose img
transposed_img = img.transpose(Image.Transpose.ROTATE_90)
display(transposed_img)



