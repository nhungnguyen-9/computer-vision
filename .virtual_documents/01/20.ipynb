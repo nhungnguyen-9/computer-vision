import cv2
import numpy as np


def display(title, img):
    cv2.imshow(title, img)
    #wait
    cv2.waitKey(0)
    # close window
    cv2.destroyWindow(title)


# create an image
img = np.zeros((400,400,3), dtype=np.uint8)
display('Image', img)


# draw line
cv2.line(img, (50,50), (350, 50), (0,255,0), 2)
display('Image',img)


# draw cicle
cv2.circle(img, (100,100), 50, (255,0,0), -2)
display('Image',img)


# draw rectangle
cv2.rectangle(img, (10,10), (370, 370), (0,0,255), 3)
display('Image',img)


# defint points
points = np.array([[200, 50], [230, 150], [350, 150], 
                   [250, 200], [280, 300], [200, 240], 
                   [120, 300], [150, 200], [50, 150], 
                   [170, 150]], np.int32)

# draw star
cv2.polylines(img, [points], isClosed=True, color=(0, 255, 255), thickness=2)

# Write text
content = 'Capybara'
font = cv2.FONT_HERSHEY_SIMPLEX
cv2.putText(img, content, (10, 390), font, 0.6, (0, 255, 255), 2)

# Display the image
cv2.imshow('Image', img)
cv2.waitKey(0)
cv2.destroyAllWindows()




