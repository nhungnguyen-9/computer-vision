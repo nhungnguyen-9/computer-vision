from  PIL import Image
import numpy as np
import matplotlib.pyplot as plt
from scipy import ndimage

# read
path = 'D:/Uni/Python/img/1/1.jpg'
img = Image.open(path)

# gray img
gray_img = img.convert('L')

# convert gray img to arr
image_a = np.array(gray_img)

gradient_x = ndimage.sobel(image_a, axis=0, mode='constant')

# show
fig, axs = plt.subplots(2,1,figsize=(10,8))

plt.subplot(2,1,1)
plt.imshow(gray_img, cmap='gray')
plt.title('anh xam goc')

plt.subplot(2,1,2)
plt.imshow(gray_img, cmap='gray')
plt.title('anh xam goc')

plt.show()


from PIL import Image
import numpy as np
import matplotlib.pyplot as plt
from scipy import ndimage

image_path = 'D:/Uni/Python/img/1/7.jpg'
image = Image.open(image_path)

gray_image = image.convert('L')

image_a = np.array(gray_image)

# tinh gradient theo huong x
gradient_x = ndimage.convolve(image_a, np.array([[-1, 0, 1], [-1, 0, 1], [-1, 0, 1]]))

# tinh gradient theo huong y
gradient_y = ndimage.convolve(image_a, np.array([[-1, -1, -1], [0, 0, 0], [1, 1, 1]]))

# tinh bien do gradient
gradient_magnitude = np.sqrt(gradient_x**2 + gradient_y**2)

# hien thi
fig, axs = plt.subplots(2,1, figsize=(10, 8))

plt.subplot(2,1,1)
plt.imshow(gray_image, cmap='gray')
plt.title('anh xam goc')

plt.subplot(2,1,2)
plt.imshow(gradient_magnitude, cmap='gray')
plt.title('anh xam goc')

plt.show()



