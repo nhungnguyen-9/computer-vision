{
 "cells": [
  {
   "cell_type": "code",
   "execution_count": 3,
   "id": "75eed88f-69fe-47ac-b7a3-a0ea13c324ab",
   "metadata": {},
   "outputs": [],
   "source": [
    "from PIL import Image\n",
    "import matplotlib.pyplot as plt"
   ]
  },
  {
   "cell_type": "code",
   "execution_count": 4,
   "id": "a6f95ad3-0adc-4edd-b8d4-d384553979b7",
   "metadata": {},
   "outputs": [],
   "source": [
    "path = 'D:/Uni/Python/img/1/3.jpg'"
   ]
  },
  {
   "cell_type": "code",
   "execution_count": 7,
   "id": "c7f0b9f4-3358-4e43-91e5-f66c7604e4b8",
   "metadata": {},
   "outputs": [
    {
     "name": "stdout",
     "output_type": "stream",
     "text": [
      "[(249.090909090909, 169.9220779220779), (421.86363636363626, 213.40909090909088), (240.86363636363632, 337.99350649350646), (357.22077922077915, 390.8831168831168)]\n"
     ]
    }
   ],
   "source": [
    "img = Image.open(path)\n",
    "\n",
    "# chuyen doi backend\n",
    "plt.switch_backend(\"tkagg\")\n",
    "\n",
    "plt.imshow(img)\n",
    "plt.title(\"Click all the image to select points\")\n",
    "\n",
    "# su dung ham ginput() de chon 1 diem tren anh\n",
    "points = plt.ginput(4)\n",
    "\n",
    "print(points)\n",
    "\n",
    "# hien thi\n",
    "plt.show()"
   ]
  },
  {
   "cell_type": "code",
   "execution_count": 11,
   "id": "c420c877-88db-48b0-8622-9027b8be08ee",
   "metadata": {},
   "outputs": [],
   "source": [
    "# ve lai cac diem da chon bang dau *\n",
    "plt.close()\n",
    "\n",
    "# ve lai\n",
    "plt.imshow(img)\n",
    "for point in points:\n",
    "    x,y=point\n",
    "    plt.plot(x,y,'r*')\n",
    "plt.show()"
   ]
  },
  {
   "cell_type": "code",
   "execution_count": null,
   "id": "d414c14d-c1d0-4355-9fd0-e741d137be8f",
   "metadata": {},
   "outputs": [],
   "source": []
  }
 ],
 "metadata": {
  "kernelspec": {
   "display_name": "Python 3 (ipykernel)",
   "language": "python",
   "name": "python3"
  },
  "language_info": {
   "codemirror_mode": {
    "name": "ipython",
    "version": 3
   },
   "file_extension": ".py",
   "mimetype": "text/x-python",
   "name": "python",
   "nbconvert_exporter": "python",
   "pygments_lexer": "ipython3",
   "version": "3.12.4"
  }
 },
 "nbformat": 4,
 "nbformat_minor": 5
}
