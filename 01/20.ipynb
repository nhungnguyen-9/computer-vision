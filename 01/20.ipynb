{
 "cells": [
  {
   "cell_type": "code",
   "execution_count": 4,
   "id": "cd1ecd70-4d38-463c-aa30-ace8ff26abe8",
   "metadata": {},
   "outputs": [],
   "source": [
    "import cv2\n",
    "import numpy as np"
   ]
  },
  {
   "cell_type": "code",
   "execution_count": 39,
   "id": "5bc07b9c-8e82-4198-a05e-c9956a522f0d",
   "metadata": {},
   "outputs": [],
   "source": [
    "def display(title, img):\n",
    "    cv2.imshow(title, img)\n",
    "    #wait\n",
    "    cv2.waitKey(0)\n",
    "    # close window\n",
    "    cv2.destroyWindow(title)"
   ]
  },
  {
   "cell_type": "code",
   "execution_count": 50,
   "id": "69aade5f-1223-4e4d-b679-d75882401486",
   "metadata": {},
   "outputs": [
    {
     "ename": "error",
     "evalue": "OpenCV(4.10.0) D:\\a\\opencv-python\\opencv-python\\opencv\\modules\\highgui\\src\\window_w32.cpp:1261: error: (-27:Null pointer) NULL window: 'Image' in function 'cvDestroyWindow'\n",
     "output_type": "error",
     "traceback": [
      "\u001b[1;31m---------------------------------------------------------------------------\u001b[0m",
      "\u001b[1;31merror\u001b[0m                                     Traceback (most recent call last)",
      "Cell \u001b[1;32mIn[50], line 3\u001b[0m\n\u001b[0;32m      1\u001b[0m \u001b[38;5;66;03m# create an image\u001b[39;00m\n\u001b[0;32m      2\u001b[0m img \u001b[38;5;241m=\u001b[39m np\u001b[38;5;241m.\u001b[39mzeros((\u001b[38;5;241m400\u001b[39m,\u001b[38;5;241m400\u001b[39m,\u001b[38;5;241m3\u001b[39m), dtype\u001b[38;5;241m=\u001b[39mnp\u001b[38;5;241m.\u001b[39muint8)\n\u001b[1;32m----> 3\u001b[0m display(\u001b[38;5;124m'\u001b[39m\u001b[38;5;124mImage\u001b[39m\u001b[38;5;124m'\u001b[39m, img)\n",
      "Cell \u001b[1;32mIn[39], line 6\u001b[0m, in \u001b[0;36mdisplay\u001b[1;34m(title, img)\u001b[0m\n\u001b[0;32m      4\u001b[0m cv2\u001b[38;5;241m.\u001b[39mwaitKey(\u001b[38;5;241m0\u001b[39m)\n\u001b[0;32m      5\u001b[0m \u001b[38;5;66;03m# close window\u001b[39;00m\n\u001b[1;32m----> 6\u001b[0m cv2\u001b[38;5;241m.\u001b[39mdestroyWindow(title)\n",
      "\u001b[1;31merror\u001b[0m: OpenCV(4.10.0) D:\\a\\opencv-python\\opencv-python\\opencv\\modules\\highgui\\src\\window_w32.cpp:1261: error: (-27:Null pointer) NULL window: 'Image' in function 'cvDestroyWindow'\n"
     ]
    }
   ],
   "source": [
    "# create an image\n",
    "img = np.zeros((400,400,3), dtype=np.uint8)\n",
    "display('Image', img)"
   ]
  },
  {
   "cell_type": "code",
   "execution_count": 27,
   "id": "f22ca7c3-dd0a-485c-8037-40c0c7742a53",
   "metadata": {},
   "outputs": [
    {
     "ename": "error",
     "evalue": "OpenCV(4.10.0) D:\\a\\opencv-python\\opencv-python\\opencv\\modules\\highgui\\src\\window_w32.cpp:1261: error: (-27:Null pointer) NULL window: 'Image' in function 'cvDestroyWindow'\n",
     "output_type": "error",
     "traceback": [
      "\u001b[1;31m---------------------------------------------------------------------------\u001b[0m",
      "\u001b[1;31merror\u001b[0m                                     Traceback (most recent call last)",
      "Cell \u001b[1;32mIn[27], line 3\u001b[0m\n\u001b[0;32m      1\u001b[0m \u001b[38;5;66;03m# draw line\u001b[39;00m\n\u001b[0;32m      2\u001b[0m cv2\u001b[38;5;241m.\u001b[39mline(img, (\u001b[38;5;241m50\u001b[39m,\u001b[38;5;241m50\u001b[39m), (\u001b[38;5;241m350\u001b[39m, \u001b[38;5;241m50\u001b[39m), (\u001b[38;5;241m0\u001b[39m,\u001b[38;5;241m255\u001b[39m,\u001b[38;5;241m0\u001b[39m), \u001b[38;5;241m2\u001b[39m)\n\u001b[1;32m----> 3\u001b[0m display(\u001b[38;5;124m'\u001b[39m\u001b[38;5;124mImage\u001b[39m\u001b[38;5;124m'\u001b[39m,img)\n",
      "Cell \u001b[1;32mIn[25], line 6\u001b[0m, in \u001b[0;36mdisplay\u001b[1;34m(title, img)\u001b[0m\n\u001b[0;32m      4\u001b[0m cv2\u001b[38;5;241m.\u001b[39mwaitKey(\u001b[38;5;241m0\u001b[39m)\n\u001b[0;32m      5\u001b[0m \u001b[38;5;66;03m# close window\u001b[39;00m\n\u001b[1;32m----> 6\u001b[0m cv2\u001b[38;5;241m.\u001b[39mdestroyWindow(title)\n",
      "\u001b[1;31merror\u001b[0m: OpenCV(4.10.0) D:\\a\\opencv-python\\opencv-python\\opencv\\modules\\highgui\\src\\window_w32.cpp:1261: error: (-27:Null pointer) NULL window: 'Image' in function 'cvDestroyWindow'\n"
     ]
    }
   ],
   "source": [
    "# draw line\n",
    "cv2.line(img, (50,50), (350, 50), (0,255,0), 2)\n",
    "display('Image',img)"
   ]
  },
  {
   "cell_type": "code",
   "execution_count": 28,
   "id": "219a1b28-b7e2-4da7-bbe3-2f2e041580ff",
   "metadata": {},
   "outputs": [
    {
     "ename": "error",
     "evalue": "OpenCV(4.10.0) D:\\a\\opencv-python\\opencv-python\\opencv\\modules\\highgui\\src\\window_w32.cpp:1261: error: (-27:Null pointer) NULL window: 'Image' in function 'cvDestroyWindow'\n",
     "output_type": "error",
     "traceback": [
      "\u001b[1;31m---------------------------------------------------------------------------\u001b[0m",
      "\u001b[1;31merror\u001b[0m                                     Traceback (most recent call last)",
      "Cell \u001b[1;32mIn[28], line 3\u001b[0m\n\u001b[0;32m      1\u001b[0m \u001b[38;5;66;03m# draw cicle\u001b[39;00m\n\u001b[0;32m      2\u001b[0m cv2\u001b[38;5;241m.\u001b[39mcircle(img, (\u001b[38;5;241m100\u001b[39m,\u001b[38;5;241m100\u001b[39m), \u001b[38;5;241m50\u001b[39m, (\u001b[38;5;241m255\u001b[39m,\u001b[38;5;241m0\u001b[39m,\u001b[38;5;241m0\u001b[39m), \u001b[38;5;241m-\u001b[39m\u001b[38;5;241m2\u001b[39m)\n\u001b[1;32m----> 3\u001b[0m display(\u001b[38;5;124m'\u001b[39m\u001b[38;5;124mImage\u001b[39m\u001b[38;5;124m'\u001b[39m,img)\n",
      "Cell \u001b[1;32mIn[25], line 6\u001b[0m, in \u001b[0;36mdisplay\u001b[1;34m(title, img)\u001b[0m\n\u001b[0;32m      4\u001b[0m cv2\u001b[38;5;241m.\u001b[39mwaitKey(\u001b[38;5;241m0\u001b[39m)\n\u001b[0;32m      5\u001b[0m \u001b[38;5;66;03m# close window\u001b[39;00m\n\u001b[1;32m----> 6\u001b[0m cv2\u001b[38;5;241m.\u001b[39mdestroyWindow(title)\n",
      "\u001b[1;31merror\u001b[0m: OpenCV(4.10.0) D:\\a\\opencv-python\\opencv-python\\opencv\\modules\\highgui\\src\\window_w32.cpp:1261: error: (-27:Null pointer) NULL window: 'Image' in function 'cvDestroyWindow'\n"
     ]
    }
   ],
   "source": [
    "# draw cicle\n",
    "cv2.circle(img, (100,100), 50, (255,0,0), -2)\n",
    "display('Image',img)"
   ]
  },
  {
   "cell_type": "code",
   "execution_count": 51,
   "id": "64ba7473-25d8-44f3-9b33-1c40759dc839",
   "metadata": {},
   "outputs": [
    {
     "ename": "error",
     "evalue": "OpenCV(4.10.0) D:\\a\\opencv-python\\opencv-python\\opencv\\modules\\highgui\\src\\window_w32.cpp:1261: error: (-27:Null pointer) NULL window: 'Image' in function 'cvDestroyWindow'\n",
     "output_type": "error",
     "traceback": [
      "\u001b[1;31m---------------------------------------------------------------------------\u001b[0m",
      "\u001b[1;31merror\u001b[0m                                     Traceback (most recent call last)",
      "Cell \u001b[1;32mIn[51], line 3\u001b[0m\n\u001b[0;32m      1\u001b[0m \u001b[38;5;66;03m# draw rectangle\u001b[39;00m\n\u001b[0;32m      2\u001b[0m cv2\u001b[38;5;241m.\u001b[39mrectangle(img, (\u001b[38;5;241m10\u001b[39m,\u001b[38;5;241m10\u001b[39m), (\u001b[38;5;241m370\u001b[39m, \u001b[38;5;241m370\u001b[39m), (\u001b[38;5;241m0\u001b[39m,\u001b[38;5;241m0\u001b[39m,\u001b[38;5;241m255\u001b[39m), \u001b[38;5;241m3\u001b[39m)\n\u001b[1;32m----> 3\u001b[0m display(\u001b[38;5;124m'\u001b[39m\u001b[38;5;124mImage\u001b[39m\u001b[38;5;124m'\u001b[39m,img)\n",
      "Cell \u001b[1;32mIn[39], line 6\u001b[0m, in \u001b[0;36mdisplay\u001b[1;34m(title, img)\u001b[0m\n\u001b[0;32m      4\u001b[0m cv2\u001b[38;5;241m.\u001b[39mwaitKey(\u001b[38;5;241m0\u001b[39m)\n\u001b[0;32m      5\u001b[0m \u001b[38;5;66;03m# close window\u001b[39;00m\n\u001b[1;32m----> 6\u001b[0m cv2\u001b[38;5;241m.\u001b[39mdestroyWindow(title)\n",
      "\u001b[1;31merror\u001b[0m: OpenCV(4.10.0) D:\\a\\opencv-python\\opencv-python\\opencv\\modules\\highgui\\src\\window_w32.cpp:1261: error: (-27:Null pointer) NULL window: 'Image' in function 'cvDestroyWindow'\n"
     ]
    }
   ],
   "source": [
    "# draw rectangle\n",
    "cv2.rectangle(img, (10,10), (370, 370), (0,0,255), 3)\n",
    "display('Image',img)"
   ]
  },
  {
   "cell_type": "code",
   "execution_count": 52,
   "id": "385d1fbd-900f-4445-9106-8c76bae00df4",
   "metadata": {},
   "outputs": [],
   "source": [
    "# defint points\n",
    "points = np.array([[200, 50], [230, 150], [350, 150], \n",
    "                   [250, 200], [280, 300], [200, 240], \n",
    "                   [120, 300], [150, 200], [50, 150], \n",
    "                   [170, 150]], np.int32)\n",
    "\n",
    "# draw star\n",
    "cv2.polylines(img, [points], isClosed=True, color=(0, 255, 255), thickness=2)\n",
    "\n",
    "# Write text\n",
    "content = 'Capybara'\n",
    "font = cv2.FONT_HERSHEY_SIMPLEX\n",
    "cv2.putText(img, content, (10, 390), font, 0.6, (0, 255, 255), 2)\n",
    "\n",
    "# Display the image\n",
    "cv2.imshow('Image', img)\n",
    "cv2.waitKey(0)\n",
    "cv2.destroyAllWindows()\n"
   ]
  },
  {
   "cell_type": "code",
   "execution_count": null,
   "id": "467a65dc-bfec-44b2-ab0f-f1f977a8456b",
   "metadata": {},
   "outputs": [],
   "source": []
  }
 ],
 "metadata": {
  "kernelspec": {
   "display_name": "Python 3 (ipykernel)",
   "language": "python",
   "name": "python3"
  },
  "language_info": {
   "codemirror_mode": {
    "name": "ipython",
    "version": 3
   },
   "file_extension": ".py",
   "mimetype": "text/x-python",
   "name": "python",
   "nbconvert_exporter": "python",
   "pygments_lexer": "ipython3",
   "version": "3.12.4"
  }
 },
 "nbformat": 4,
 "nbformat_minor": 5
}
