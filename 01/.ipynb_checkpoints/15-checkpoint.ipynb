{
 "cells": [
  {
   "cell_type": "code",
   "execution_count": 3,
   "id": "ee193722-d2cf-487a-aeee-b023085e8b0b",
   "metadata": {},
   "outputs": [
    {
     "name": "stdout",
     "output_type": "stream",
     "text": [
      "Result:  [ 3. -4.]\n"
     ]
    }
   ],
   "source": [
    "# !pip install scipy\n",
    "from scipy import linalg\n",
    "import numpy as np\n",
    "\n",
    "# definition of system of linear equations\n",
    "A = np.array([[3,1],[5,2]])\n",
    "b = np.array([5,7])\n",
    "\n",
    "# solve\n",
    "x = linalg.solve(A,b)\n",
    "print(\"Result: \", x)"
   ]
  },
  {
   "cell_type": "code",
   "execution_count": 4,
   "id": "c722e8b1-981b-4851-bd9b-2651f5b8e990",
   "metadata": {},
   "outputs": [],
   "source": [
    "# Calculate the integral of a function"
   ]
  },
  {
   "cell_type": "code",
   "execution_count": 5,
   "id": "116a3480-a36d-4fb1-bdf8-f362d047554b",
   "metadata": {},
   "outputs": [
    {
     "name": "stdout",
     "output_type": "stream",
     "text": [
      "integral of f(x) from 0 to 1:  (0.33333333333333337, 3.700743415417189e-15)\n"
     ]
    }
   ],
   "source": [
    "from scipy import integrate\n",
    "\n",
    "# definition of func f(x) = x^2\n",
    "def my_func(x):\n",
    "    return x**2\n",
    "\n",
    "# Calculate the 'integral of f(x) from 0 to 1: ', integral)\n",
    "integral = integrate.quad(my_func, 0,1)\n",
    "print('integral of f(x) from 0 to 1: ', integral)"
   ]
  },
  {
   "cell_type": "code",
   "execution_count": 6,
   "id": "d21ae85a-d4a7-46d5-8a34-b823879068ba",
   "metadata": {},
   "outputs": [
    {
     "name": "stdout",
     "output_type": "stream",
     "text": [
      "unique value:  [0.29843788+0.j 6.70156212+0.j]\n",
      "vector value:  [[-0.59500525 -0.47536171]\n",
      " [ 0.80372182 -0.87979045]]\n"
     ]
    }
   ],
   "source": [
    "from scipy import linalg\n",
    "import numpy as np\n",
    "\n",
    "a = np.array([[3,2],[5,4]])\n",
    "\n",
    "evals, evecs = linalg.eig(a)\n",
    "\n",
    "print('unique value: ', evals)\n",
    "print('vector value: ', evecs)"
   ]
  },
  {
   "cell_type": "code",
   "execution_count": null,
   "id": "93e6b62c-1213-429f-ab1c-3b53d66e915e",
   "metadata": {},
   "outputs": [],
   "source": []
  }
 ],
 "metadata": {
  "kernelspec": {
   "display_name": "Python 3 (ipykernel)",
   "language": "python",
   "name": "python3"
  },
  "language_info": {
   "codemirror_mode": {
    "name": "ipython",
    "version": 3
   },
   "file_extension": ".py",
   "mimetype": "text/x-python",
   "name": "python",
   "nbconvert_exporter": "python",
   "pygments_lexer": "ipython3",
   "version": "3.12.4"
  }
 },
 "nbformat": 4,
 "nbformat_minor": 5
}
