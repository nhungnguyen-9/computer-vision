{
 "cells": [
  {
   "cell_type": "code",
   "execution_count": 9,
   "id": "a6de7abd-d4f0-4344-ad15-cdcb752105c0",
   "metadata": {},
   "outputs": [],
   "source": [
    "from PIL import Image\n",
    "from imgtools import *"
   ]
  },
  {
   "cell_type": "code",
   "execution_count": 11,
   "id": "c000336c-c573-434a-850b-ef33e1828ced",
   "metadata": {},
   "outputs": [
    {
     "name": "stdout",
     "output_type": "stream",
     "text": [
      "D:\\Uni\\Python\\BaiTap1\n"
     ]
    }
   ],
   "source": [
    "import os\n",
    "print(os.getcwd()) # in thu muc hien tai\n",
    "dir = 'D:/Uni/Python/img/1'"
   ]
  },
  {
   "cell_type": "code",
   "execution_count": 13,
   "id": "9fb19453-de81-4874-ac29-186875b5a7fe",
   "metadata": {},
   "outputs": [
    {
     "ename": "NameError",
     "evalue": "name 'get_img' is not defined",
     "output_type": "error",
     "traceback": [
      "\u001b[1;31m---------------------------------------------------------------------------\u001b[0m",
      "\u001b[1;31mNameError\u001b[0m                                 Traceback (most recent call last)",
      "Cell \u001b[1;32mIn[13], line 1\u001b[0m\n\u001b[1;32m----> 1\u001b[0m imgs \u001b[38;5;241m=\u001b[39m get_img(\u001b[38;5;28mdir\u001b[39m)\n",
      "\u001b[1;31mNameError\u001b[0m: name 'get_img' is not defined"
     ]
    }
   ],
   "source": [
    "imgs = get_img(dir)"
   ]
  },
  {
   "cell_type": "code",
   "execution_count": 5,
   "id": "592d58b7-53bc-47ad-94f8-7e1a54d70c3b",
   "metadata": {},
   "outputs": [],
   "source": [
    "# show all images\n",
    "for img in imgs:\n",
    "    print(img.size)\n",
    "    display(img)"
   ]
  },
  {
   "cell_type": "code",
   "execution_count": null,
   "id": "5fcee03b-f640-49d6-9e24-ab82346ea8a2",
   "metadata": {},
   "outputs": [],
   "source": []
  }
 ],
 "metadata": {
  "kernelspec": {
   "display_name": "Python 3 (ipykernel)",
   "language": "python",
   "name": "python3"
  },
  "language_info": {
   "codemirror_mode": {
    "name": "ipython",
    "version": 3
   },
   "file_extension": ".py",
   "mimetype": "text/x-python",
   "name": "python",
   "nbconvert_exporter": "python",
   "pygments_lexer": "ipython3",
   "version": "3.12.4"
  }
 },
 "nbformat": 4,
 "nbformat_minor": 5
}
