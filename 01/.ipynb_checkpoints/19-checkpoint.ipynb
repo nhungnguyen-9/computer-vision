{
 "cells": [
  {
   "cell_type": "code",
   "execution_count": null,
   "id": "aec11442-52e7-444e-a006-8dce2c3b2f77",
   "metadata": {},
   "outputs": [],
   "source": [
    "# !pip install opencv-python\n",
    "\n",
    "def display(title, img):\n",
    "    cv2.imshow(title, img)\n",
    "    # wait\n",
    "    cv2.waitKey(0)\n",
    "    # close window\n",
    "    cv2.destroyWindow(title)\n",
    "\n",
    "\n",
    "import cv2"
   ]
  },
  {
   "cell_type": "code",
   "execution_count": null,
   "id": "ce358734-709b-4c65-840f-317bfa06f75e",
   "metadata": {},
   "outputs": [],
   "source": [
    "path = 'D:/Uni/Python/img/1/7.jpg'\n",
    "img = cv2.imread(path)\n",
    "# in thong tin anh\n",
    "print(img)"
   ]
  },
  {
   "cell_type": "code",
   "execution_count": null,
   "id": "754eaacd-825e-4f00-bd3f-33535b9db251",
   "metadata": {},
   "outputs": [],
   "source": [
    "# hien thi anh\n",
    "cv2.imshow('Window', img)\n",
    "\n",
    "# wait\n",
    "cv2.waitKey(10000)\n",
    "\n",
    "# close window\n",
    "cv2.destroyWindow('Window')"
   ]
  },
  {
   "cell_type": "code",
   "execution_count": null,
   "id": "16abe806-ed45-4fed-8119-de66b93d3dfc",
   "metadata": {},
   "outputs": [],
   "source": [
    "# tach mau\n",
    "b,g,r = cv2.split(img)\n",
    "cv2.imshow('Window', img)\n",
    "cv2.imshow('Red', r)\n",
    "cv2.imshow('Green', g)\n",
    "cv2.imshow('Blue', b)\n",
    "\n",
    "# wait\n",
    "cv2.waitKey(0)\n",
    "\n",
    "# close window\n",
    "cv2.destroyAllWindows()"
   ]
  },
  {
   "cell_type": "code",
   "execution_count": null,
   "id": "ed9c7f3b-c6c2-480b-96dd-06580be9e5a5",
   "metadata": {},
   "outputs": [],
   "source": [
    "gray_img = cv2.cvtColor(img, cv2.COLOR_BGR2GRAY)\n",
    "img_2 = cv2.cvtColor(img, cv2.COLOR_BGR2RGB)\n",
    "cv2.imshow('Window', img)\n",
    "cv2.imshow('gray_img', gray_img)\n",
    "cv2.imshow('img_2', img_2)\n",
    "# wait\n",
    "cv2.waitKey(0)\n",
    "# close window\n",
    "cv2.destroyAllWindows()"
   ]
  },
  {
   "cell_type": "code",
   "execution_count": null,
   "id": "0f863da9-0289-4098-b831-a4b1509e6dff",
   "metadata": {},
   "outputs": [],
   "source": [
    "# thay doi thong so cua diem anh\n",
    "height, width, z = img.shape\n",
    "quater_h = height/2\n",
    "quater_w = width/2\n",
    "\n",
    "# geen color\n",
    "green_color = (0,255,0)\n",
    "\n",
    "# copy anh\n",
    "img2 = img.copy()\n",
    "\n",
    "# thay doi mau cua goc 1/4 ben trai tren\n",
    "\n",
    "for y in range(int(quater_h)):\n",
    "    for x in range(int(quater_w)):\n",
    "        img2[y, x] = green_color\n",
    "        \n",
    "# show\n",
    "display('Window', img)\n",
    "display('Window-2', img2)"
   ]
  }
 ],
 "metadata": {
  "kernelspec": {
   "display_name": "Python 3 (ipykernel)",
   "language": "python",
   "name": "python3"
  },
  "language_info": {
   "codemirror_mode": {
    "name": "ipython",
    "version": 3
   },
   "file_extension": ".py",
   "mimetype": "text/x-python",
   "name": "python",
   "nbconvert_exporter": "python",
   "pygments_lexer": "ipython3",
   "version": "3.12.4"
  }
 },
 "nbformat": 4,
 "nbformat_minor": 5
}
