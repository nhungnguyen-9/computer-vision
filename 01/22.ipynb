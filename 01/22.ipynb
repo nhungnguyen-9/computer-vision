{
 "cells": [
  {
   "cell_type": "code",
   "execution_count": 1,
   "id": "63b0f83c-32a4-407c-903e-210c28bf4602",
   "metadata": {},
   "outputs": [],
   "source": [
    "import cv2\n",
    "import time"
   ]
  },
  {
   "cell_type": "code",
   "execution_count": 2,
   "id": "9ce1a030-e119-4836-9524-98e543725fc2",
   "metadata": {},
   "outputs": [],
   "source": [
    "# read video from file\n",
    "vid = cv2.VideoCapture('../video/Giai Điệu Việt Nam Mình.mp4')"
   ]
  },
  {
   "cell_type": "code",
   "execution_count": 3,
   "id": "0c7371bc-5d47-418b-b116-3e127ba4425a",
   "metadata": {},
   "outputs": [],
   "source": [
    "# create windowto show\n",
    "cv2.namedWindow('Video Player', cv2.WINDOW_NORMAL)\n",
    "\n",
    "\n",
    "# write text\n",
    "font = cv2.FONT_HERSHEY_SIMPLEX\n",
    "font_color = (0, 255, 255)\n",
    "font_scale = 2\n",
    "font_thicknes = 3"
   ]
  },
  {
   "cell_type": "code",
   "execution_count": 4,
   "id": "7046c824-aef3-41e8-a90b-3440b388c353",
   "metadata": {},
   "outputs": [],
   "source": [
    "# show each frame\n",
    "while True:\n",
    "    # time before read\n",
    "    start_time = time.time()\n",
    "    # read 1 frame\n",
    "    ret, frame = vid.read()\n",
    "    # exit when can not read the frame\n",
    "    if not ret:\n",
    "        break\n",
    "    # time before read\n",
    "    end_time = time.time()\n",
    "    # calculate Fps\n",
    "    fps = 1/(end_time - start_time)\n",
    "    # write fps\n",
    "    cv2.putText(frame, f'FPS: {fps:.2f}', (100, 100), font, font_scale, font_color , font_thicknes)\n",
    "    #show\n",
    "    cv2.imshow('Video Player', frame)\n",
    "    if(cv2.waitKey(10)==ord('q')):\n",
    "        break"
   ]
  },
  {
   "cell_type": "code",
   "execution_count": 5,
   "id": "0c121ed3-6534-448a-a0dd-b910b21be502",
   "metadata": {},
   "outputs": [],
   "source": [
    "# cancel player\n",
    "vid.release\n",
    "cv2.destroyAllWindows()"
   ]
  },
  {
   "cell_type": "code",
   "execution_count": null,
   "id": "b3bac151-8078-4d38-8d68-dfc88e2c8723",
   "metadata": {},
   "outputs": [],
   "source": []
  }
 ],
 "metadata": {
  "kernelspec": {
   "display_name": "Python 3 (ipykernel)",
   "language": "python",
   "name": "python3"
  },
  "language_info": {
   "codemirror_mode": {
    "name": "ipython",
    "version": 3
   },
   "file_extension": ".py",
   "mimetype": "text/x-python",
   "name": "python",
   "nbconvert_exporter": "python",
   "pygments_lexer": "ipython3",
   "version": "3.12.4"
  }
 },
 "nbformat": 4,
 "nbformat_minor": 5
}
